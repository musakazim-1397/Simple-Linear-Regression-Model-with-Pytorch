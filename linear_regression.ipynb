{
 "cells": [
  {
   "cell_type": "code",
   "execution_count": 1,
   "metadata": {},
   "outputs": [],
   "source": [
    "import torch\n",
    "import numpy as np\n"
   ]
  },
  {
   "cell_type": "code",
   "execution_count": 2,
   "metadata": {},
   "outputs": [
    {
     "data": {
      "text/plain": [
       "torch.Size([50, 1])"
      ]
     },
     "execution_count": 2,
     "metadata": {},
     "output_type": "execute_result"
    }
   ],
   "source": [
    "X = torch.linspace(1,50,50).reshape(-1,1)\n",
    "X.shape"
   ]
  },
  {
   "cell_type": "code",
   "execution_count": 3,
   "metadata": {},
   "outputs": [
    {
     "data": {
      "text/plain": [
       "tensor([[ 1.],\n",
       "        [ 2.],\n",
       "        [ 3.],\n",
       "        [ 4.],\n",
       "        [ 5.],\n",
       "        [ 6.],\n",
       "        [ 7.],\n",
       "        [ 8.],\n",
       "        [ 9.],\n",
       "        [10.],\n",
       "        [11.],\n",
       "        [12.],\n",
       "        [13.],\n",
       "        [14.],\n",
       "        [15.],\n",
       "        [16.],\n",
       "        [17.],\n",
       "        [18.],\n",
       "        [19.],\n",
       "        [20.],\n",
       "        [21.],\n",
       "        [22.],\n",
       "        [23.],\n",
       "        [24.],\n",
       "        [25.],\n",
       "        [26.],\n",
       "        [27.],\n",
       "        [28.],\n",
       "        [29.],\n",
       "        [30.],\n",
       "        [31.],\n",
       "        [32.],\n",
       "        [33.],\n",
       "        [34.],\n",
       "        [35.],\n",
       "        [36.],\n",
       "        [37.],\n",
       "        [38.],\n",
       "        [39.],\n",
       "        [40.],\n",
       "        [41.],\n",
       "        [42.],\n",
       "        [43.],\n",
       "        [44.],\n",
       "        [45.],\n",
       "        [46.],\n",
       "        [47.],\n",
       "        [48.],\n",
       "        [49.],\n",
       "        [50.]])"
      ]
     },
     "execution_count": 3,
     "metadata": {},
     "output_type": "execute_result"
    }
   ],
   "source": [
    "X"
   ]
  },
  {
   "cell_type": "code",
   "execution_count": 4,
   "metadata": {},
   "outputs": [],
   "source": [
    "e = torch.randint(-8,9,(50,1), dtype=torch.float)"
   ]
  },
  {
   "cell_type": "code",
   "execution_count": 5,
   "metadata": {},
   "outputs": [
    {
     "data": {
      "text/plain": [
       "torch.Size([50, 1])"
      ]
     },
     "execution_count": 5,
     "metadata": {},
     "output_type": "execute_result"
    }
   ],
   "source": [
    "y= 2*X+1+e\n",
    "y.shape"
   ]
  },
  {
   "cell_type": "code",
   "execution_count": 6,
   "metadata": {},
   "outputs": [
    {
     "data": {
      "text/plain": [
       "<matplotlib.collections.PathCollection at 0x2243f669630>"
      ]
     },
     "execution_count": 6,
     "metadata": {},
     "output_type": "execute_result"
    },
    {
     "data": {
      "image/png": "[encoded data removed]",
      "text/plain": [
       "<Figure size 640x480 with 1 Axes>"
      ]
     },
     "metadata": {},
     "output_type": "display_data"
    }
   ],
   "source": [
    "import matplotlib.pyplot as plt\n",
    "plt.scatter(X.numpy(), y.numpy())"
   ]
  },
  {
   "cell_type": "code",
   "execution_count": 7,
   "metadata": {},
   "outputs": [
    {
     "name": "stdout",
     "output_type": "stream",
     "text": [
      "Parameter containing:\n",
      "tensor([[0.5516]], requires_grad=True) \n",
      " Parameter containing:\n",
      "tensor([0.7338], requires_grad=True)\n"
     ]
    }
   ],
   "source": [
    "#before we test a linear model, lets first check how it works and how it sets up the weights and biases and because the \n",
    "#model is untrained we are expecting random values for weights and biases\n",
    "import torch.nn as nn\n",
    "\n",
    "model= nn.Linear(in_features=1, out_features=1)\n",
    "print(model.weight,'\\n', model.bias)"
   ]
  },
  {
   "cell_type": "code",
   "execution_count": 8,
   "metadata": {},
   "outputs": [],
   "source": [
    "#defining the model: in PyTorch we define our model as a class\n",
    "class Model(nn.Module):\n",
    "    def __init__(self, in_features, out_features):\n",
    "        super().__init__()\n",
    "        self.linear = nn.Linear(in_features, out_features)\n",
    "\n",
    "    def forward(self, x):\n",
    "        y_pred = self.linear(x)\n",
    "        return y_pred\n"
   ]
  },
  {
   "cell_type": "code",
   "execution_count": 9,
   "metadata": {},
   "outputs": [],
   "source": [
    "model = Model(1,1)"
   ]
  },
  {
   "cell_type": "code",
   "execution_count": 10,
   "metadata": {},
   "outputs": [
    {
     "name": "stdout",
     "output_type": "stream",
     "text": [
      "Model(\n",
      "  (linear): Linear(in_features=1, out_features=1, bias=True)\n",
      ")\n"
     ]
    }
   ],
   "source": [
    "print(model)"
   ]
  },
  {
   "cell_type": "code",
   "execution_count": 11,
   "metadata": {},
   "outputs": [],
   "source": [
    "#loss function\n",
    "criterion = nn.MSELoss()"
   ]
  },
  {
   "cell_type": "code",
   "execution_count": 12,
   "metadata": {},
   "outputs": [],
   "source": [
    "#optimizer\n",
    "optimizer = torch.optim.SGD(model.parameters(),lr=0.001)"
   ]
  },
  {
   "cell_type": "code",
   "execution_count": 21,
   "metadata": {},
   "outputs": [
    {
     "name": "stdout",
     "output_type": "stream",
     "text": [
      "Epoch: 1 loss: 19.544347763061523\n",
      "Epoch: 2 loss: 19.544076919555664\n",
      "Epoch: 3 loss: 19.543813705444336\n",
      "Epoch: 4 loss: 19.543542861938477\n",
      "Epoch: 5 loss: 19.543275833129883\n",
      "Epoch: 6 loss: 19.543012619018555\n",
      "Epoch: 7 loss: 19.542743682861328\n",
      "Epoch: 8 loss: 19.542478561401367\n",
      "Epoch: 9 loss: 19.542211532592773\n",
      "Epoch: 10 loss: 19.541946411132812\n",
      "Epoch: 11 loss: 19.54168128967285\n",
      "Epoch: 12 loss: 19.54141616821289\n",
      "Epoch: 13 loss: 19.541149139404297\n",
      "Epoch: 14 loss: 19.540884017944336\n",
      "Epoch: 15 loss: 19.54062271118164\n",
      "Epoch: 16 loss: 19.540359497070312\n",
      "Epoch: 17 loss: 19.54009437561035\n",
      "Epoch: 18 loss: 19.539831161499023\n",
      "Epoch: 19 loss: 19.539566040039062\n",
      "Epoch: 20 loss: 19.539304733276367\n",
      "Epoch: 21 loss: 19.539039611816406\n",
      "Epoch: 22 loss: 19.53877830505371\n",
      "Epoch: 23 loss: 19.53851890563965\n",
      "Epoch: 24 loss: 19.538253784179688\n",
      "Epoch: 25 loss: 19.537992477416992\n",
      "Epoch: 26 loss: 19.537731170654297\n",
      "Epoch: 27 loss: 19.5374698638916\n",
      "Epoch: 28 loss: 19.537208557128906\n",
      "Epoch: 29 loss: 19.536949157714844\n",
      "Epoch: 30 loss: 19.53668975830078\n",
      "Epoch: 31 loss: 19.536428451538086\n",
      "Epoch: 32 loss: 19.536163330078125\n",
      "Epoch: 33 loss: 19.535903930664062\n",
      "Epoch: 34 loss: 19.535646438598633\n",
      "Epoch: 35 loss: 19.535385131835938\n",
      "Epoch: 36 loss: 19.535127639770508\n",
      "Epoch: 37 loss: 19.534868240356445\n",
      "Epoch: 38 loss: 19.53461265563965\n",
      "Epoch: 39 loss: 19.534351348876953\n",
      "Epoch: 40 loss: 19.534093856811523\n",
      "Epoch: 41 loss: 19.533832550048828\n",
      "Epoch: 42 loss: 19.533578872680664\n",
      "Epoch: 43 loss: 19.5333194732666\n",
      "Epoch: 44 loss: 19.533061981201172\n",
      "Epoch: 45 loss: 19.532808303833008\n",
      "Epoch: 46 loss: 19.532550811767578\n",
      "Epoch: 47 loss: 19.532291412353516\n",
      "Epoch: 48 loss: 19.532033920288086\n",
      "Epoch: 49 loss: 19.531780242919922\n",
      "Epoch: 50 loss: 19.531526565551758\n"
     ]
    }
   ],
   "source": [
    "#training the model:\n",
    "epochs =50\n",
    "losses = []\n",
    "for i in range(epochs):\n",
    "    i+=1\n",
    "    y_pred = model.forward(X)   #prediction\n",
    "    loss = criterion(y_pred,y)  #loss\n",
    "    losses.append(loss)\n",
    "    print(f'Epoch: {i} loss: {loss.item()}')\n",
    "    #gradients accumulate with every backprop, to prevent compounding we need to reset the stored gradients\n",
    "    optimizer.zero_grad()\n",
    "    loss.backward()\n",
    "    optimizer.step()    #updates the hyperparameters of our model\n",
    "\n"
   ]
  },
  {
   "cell_type": "code",
   "execution_count": 20,
   "metadata": {},
   "outputs": [
    {
     "data": {
      "text/plain": [
       "[tensor(19.5581, grad_fn=<MseLossBackward0>),\n",
       " tensor(19.5578, grad_fn=<MseLossBackward0>),\n",
       " tensor(19.5575, grad_fn=<MseLossBackward0>),\n",
       " tensor(19.5572, grad_fn=<MseLossBackward0>),\n",
       " tensor(19.5570, grad_fn=<MseLossBackward0>),\n",
       " tensor(19.5567, grad_fn=<MseLossBackward0>),\n",
       " tensor(19.5564, grad_fn=<MseLossBackward0>),\n",
       " tensor(19.5561, grad_fn=<MseLossBackward0>),\n",
       " tensor(19.5558, grad_fn=<MseLossBackward0>),\n",
       " tensor(19.5556, grad_fn=<MseLossBackward0>),\n",
       " tensor(19.5553, grad_fn=<MseLossBackward0>),\n",
       " tensor(19.5550, grad_fn=<MseLossBackward0>),\n",
       " tensor(19.5547, grad_fn=<MseLossBackward0>),\n",
       " tensor(19.5544, grad_fn=<MseLossBackward0>),\n",
       " tensor(19.5542, grad_fn=<MseLossBackward0>),\n",
       " tensor(19.5539, grad_fn=<MseLossBackward0>),\n",
       " tensor(19.5536, grad_fn=<MseLossBackward0>),\n",
       " tensor(19.5533, grad_fn=<MseLossBackward0>),\n",
       " tensor(19.5531, grad_fn=<MseLossBackward0>),\n",
       " tensor(19.5528, grad_fn=<MseLossBackward0>),\n",
       " tensor(19.5525, grad_fn=<MseLossBackward0>),\n",
       " tensor(19.5522, grad_fn=<MseLossBackward0>),\n",
       " tensor(19.5520, grad_fn=<MseLossBackward0>),\n",
       " tensor(19.5517, grad_fn=<MseLossBackward0>),\n",
       " tensor(19.5514, grad_fn=<MseLossBackward0>),\n",
       " tensor(19.5511, grad_fn=<MseLossBackward0>),\n",
       " tensor(19.5508, grad_fn=<MseLossBackward0>),\n",
       " tensor(19.5506, grad_fn=<MseLossBackward0>),\n",
       " tensor(19.5503, grad_fn=<MseLossBackward0>),\n",
       " tensor(19.5500, grad_fn=<MseLossBackward0>),\n",
       " tensor(19.5498, grad_fn=<MseLossBackward0>),\n",
       " tensor(19.5495, grad_fn=<MseLossBackward0>),\n",
       " tensor(19.5492, grad_fn=<MseLossBackward0>),\n",
       " tensor(19.5489, grad_fn=<MseLossBackward0>),\n",
       " tensor(19.5487, grad_fn=<MseLossBackward0>),\n",
       " tensor(19.5484, grad_fn=<MseLossBackward0>),\n",
       " tensor(19.5481, grad_fn=<MseLossBackward0>),\n",
       " tensor(19.5479, grad_fn=<MseLossBackward0>),\n",
       " tensor(19.5476, grad_fn=<MseLossBackward0>),\n",
       " tensor(19.5473, grad_fn=<MseLossBackward0>),\n",
       " tensor(19.5470, grad_fn=<MseLossBackward0>),\n",
       " tensor(19.5468, grad_fn=<MseLossBackward0>),\n",
       " tensor(19.5465, grad_fn=<MseLossBackward0>),\n",
       " tensor(19.5462, grad_fn=<MseLossBackward0>),\n",
       " tensor(19.5460, grad_fn=<MseLossBackward0>),\n",
       " tensor(19.5457, grad_fn=<MseLossBackward0>),\n",
       " tensor(19.5454, grad_fn=<MseLossBackward0>),\n",
       " tensor(19.5452, grad_fn=<MseLossBackward0>),\n",
       " tensor(19.5449, grad_fn=<MseLossBackward0>),\n",
       " tensor(19.5446, grad_fn=<MseLossBackward0>)]"
      ]
     },
     "execution_count": 20,
     "metadata": {},
     "output_type": "execute_result"
    }
   ],
   "source": [
    "losses"
   ]
  },
  {
   "cell_type": "code",
   "execution_count": 22,
   "metadata": {},
   "outputs": [
    {
     "data": {
      "text/plain": [
       "Parameter containing:\n",
       "tensor([[2.0114]], requires_grad=True)"
      ]
     },
     "execution_count": 22,
     "metadata": {},
     "output_type": "execute_result"
    }
   ],
   "source": [
    "model.linear.weight"
   ]
  },
  {
   "cell_type": "code",
   "execution_count": 23,
   "metadata": {},
   "outputs": [
    {
     "data": {
      "text/plain": [
       "Parameter containing:\n",
       "tensor([0.6367], requires_grad=True)"
      ]
     },
     "execution_count": 23,
     "metadata": {},
     "output_type": "execute_result"
    }
   ],
   "source": [
    "model.linear.bias"
   ]
  },
  {
   "cell_type": "code",
   "execution_count": 24,
   "metadata": {},
   "outputs": [
    {
     "data": {
      "text/plain": [
       "[<matplotlib.lines.Line2D at 0x22444f11420>]"
      ]
     },
     "execution_count": 24,
     "metadata": {},
     "output_type": "execute_result"
    },
    {
     "data": {
      "image/png": "[encoded data removed]",
      "text/plain": [
       "<Figure size 640x480 with 1 Axes>"
      ]
     },
     "metadata": {},
     "output_type": "display_data"
    }
   ],
   "source": [
    "x1 = np.array([X.min(),X.max()])\n",
    "w1,b1 = model.linear.weight.item(), model.linear.bias.item()\n",
    "y1 = x1*w1 + b1\n",
    "plt.scatter(X.numpy(), y.numpy())\n",
    "plt.plot(x1, y1)"
   ]
  },
  {
   "cell_type": "code",
   "execution_count": 25,
   "metadata": {},
   "outputs": [
    {
     "data": {
      "text/plain": [
       "tensor([[ 1.],\n",
       "        [ 2.],\n",
       "        [ 3.],\n",
       "        [ 4.],\n",
       "        [ 5.],\n",
       "        [ 6.],\n",
       "        [ 7.],\n",
       "        [ 8.],\n",
       "        [ 9.],\n",
       "        [10.],\n",
       "        [11.],\n",
       "        [12.],\n",
       "        [13.],\n",
       "        [14.],\n",
       "        [15.],\n",
       "        [16.],\n",
       "        [17.],\n",
       "        [18.],\n",
       "        [19.],\n",
       "        [20.],\n",
       "        [21.],\n",
       "        [22.],\n",
       "        [23.],\n",
       "        [24.],\n",
       "        [25.],\n",
       "        [26.],\n",
       "        [27.],\n",
       "        [28.],\n",
       "        [29.],\n",
       "        [30.],\n",
       "        [31.],\n",
       "        [32.],\n",
       "        [33.],\n",
       "        [34.],\n",
       "        [35.],\n",
       "        [36.],\n",
       "        [37.],\n",
       "        [38.],\n",
       "        [39.],\n",
       "        [40.],\n",
       "        [41.],\n",
       "        [42.],\n",
       "        [43.],\n",
       "        [44.],\n",
       "        [45.],\n",
       "        [46.],\n",
       "        [47.],\n",
       "        [48.],\n",
       "        [49.],\n",
       "        [50.]])"
      ]
     },
     "execution_count": 25,
     "metadata": {},
     "output_type": "execute_result"
    }
   ],
   "source": [
    "X"
   ]
  },
  {
   "cell_type": "code",
   "execution_count": 26,
   "metadata": {},
   "outputs": [
    {
     "data": {
      "text/plain": [
       "array([[ 1.],\n",
       "       [ 2.],\n",
       "       [ 3.],\n",
       "       [ 4.],\n",
       "       [ 5.],\n",
       "       [ 6.],\n",
       "       [ 7.],\n",
       "       [ 8.],\n",
       "       [ 9.],\n",
       "       [10.],\n",
       "       [11.],\n",
       "       [12.],\n",
       "       [13.],\n",
       "       [14.],\n",
       "       [15.],\n",
       "       [16.],\n",
       "       [17.],\n",
       "       [18.],\n",
       "       [19.],\n",
       "       [20.],\n",
       "       [21.],\n",
       "       [22.],\n",
       "       [23.],\n",
       "       [24.],\n",
       "       [25.],\n",
       "       [26.],\n",
       "       [27.],\n",
       "       [28.],\n",
       "       [29.],\n",
       "       [30.],\n",
       "       [31.],\n",
       "       [32.],\n",
       "       [33.],\n",
       "       [34.],\n",
       "       [35.],\n",
       "       [36.],\n",
       "       [37.],\n",
       "       [38.],\n",
       "       [39.],\n",
       "       [40.],\n",
       "       [41.],\n",
       "       [42.],\n",
       "       [43.],\n",
       "       [44.],\n",
       "       [45.],\n",
       "       [46.],\n",
       "       [47.],\n",
       "       [48.],\n",
       "       [49.],\n",
       "       [50.]], dtype=float32)"
      ]
     },
     "execution_count": 26,
     "metadata": {},
     "output_type": "execute_result"
    }
   ],
   "source": [
    "X.numpy()"
   ]
  },
  {
   "cell_type": "code",
   "execution_count": null,
   "metadata": {},
   "outputs": [],
   "source": []
  }
 ],
 "metadata": {
  "kernelspec": {
   "display_name": "Python 3",
   "language": "python",
   "name": "python3"
  },
  "language_info": {
   "codemirror_mode": {
    "name": "ipython",
    "version": 3
   },
   "file_extension": ".py",
   "mimetype": "text/x-python",
   "name": "python",
   "nbconvert_exporter": "python",
   "pygments_lexer": "ipython3",
   "version": "3.10.7"
  },
  "orig_nbformat": 4,
  "vscode": {
   "interpreter": {
    "hash": "369f2c481f4da34e4445cda3fffd2e751bd1c4d706f27375911949ba6bb62e1c"
   }
  }
 },
 "nbformat": 4,
 "nbformat_minor": 2
}
